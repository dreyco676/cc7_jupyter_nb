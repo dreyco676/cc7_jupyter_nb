{
 "cells": [
  {
   "cell_type": "markdown",
   "metadata": {},
   "source": [
    "<center><h1>Developing Differently</h1></center>\n",
    "<center><h1>with</h1></center>\n",
    "![alt text](https://datascienceinsider.files.wordpress.com/2015/12/jupyter-logo.png)"
   ]
  },
  {
   "cell_type": "markdown",
   "metadata": {},
   "source": [
    "## What are Notebooks?\n",
    "* A somewhere between an ***IDE*** and an ***Interpreter***\n",
    "* Repeatable, interactive & visual\n",
    "* Self supporting documentation\n",
    "* Language Agnostic\n"
   ]
  },
  {
   "cell_type": "markdown",
   "metadata": {},
   "source": [
    "![alt text](./images/arch.png)"
   ]
  },
  {
   "cell_type": "markdown",
   "metadata": {},
   "source": [
    "# Where do Notebooks get used?\n",
    "* Data Analytics\n",
    "    * Interative\n",
    "    * Visual\n",
    "    * Connect to distributed computing resources\n",
    "* Education\n",
    "    * Descriptive\n",
    "    * Example => Results\n",
    "    * Modular, not monolithic\n",
    "* Presentations\n",
    "    * Easy to format\n",
    "    * Run code live (& test before hand)"
   ]
  },
  {
   "cell_type": "markdown",
   "metadata": {},
   "source": [
    "![alt text](./images/workflow.png)"
   ]
  },
  {
   "cell_type": "markdown",
   "metadata": {},
   "source": [
    "# Exploratory Data Analysis\n",
    "\n",
    ">**In statistics, exploratory data analysis (EDA) is an approach to analyzing data sets to summarize their main characteristics, often with visual methods. A statistical model can be used or not, but primarily EDA is for seeing what the data can tell us beyond the formal modeling or hypothesis testing task.**"
   ]
  },
  {
   "cell_type": "markdown",
   "metadata": {},
   "source": [
    "### Getting started...\n",
    "* What do I have to work with?"
   ]
  },
  {
   "cell_type": "code",
   "execution_count": null,
   "metadata": {
    "ExecuteTime": {
     "end_time": "2016-07-28T10:48:07.677672",
     "start_time": "2016-07-28T10:48:07.245373"
    },
    "collapsed": false
   },
   "outputs": [],
   "source": [
    "ls"
   ]
  },
  {
   "cell_type": "markdown",
   "metadata": {},
   "source": [
    "**Other CLI Stuff**\n",
    "* Run other scripts with %run\n",
    "* Execute OS specific commands with !*my_cool_cmd*"
   ]
  },
  {
   "cell_type": "code",
   "execution_count": null,
   "metadata": {
    "ExecuteTime": {
     "end_time": "2016-07-28T10:48:34.223276",
     "start_time": "2016-07-28T10:48:31.470597"
    },
    "collapsed": false
   },
   "outputs": [],
   "source": [
    "import pandas as pd\n",
    "df = pd.read_csv('./data/college.csv')\n",
    "df.columns"
   ]
  },
  {
   "cell_type": "markdown",
   "metadata": {},
   "source": [
    "* **What's going on above?**\n",
    "    * Import Python Data Analysis Library - Pandas\n",
    "    * Read the csv file into memory\n",
    "    * Display the columns back in nice format\n",
    "\n",
    "* **Try it**\n",
    "    * What's the difference between `print(df.head())` and `df.head()`?\n",
    "    * What does `;` at the end of a cell do?"
   ]
  },
  {
   "cell_type": "code",
   "execution_count": null,
   "metadata": {
    "ExecuteTime": {
     "end_time": "2016-07-28T10:49:44.553471",
     "start_time": "2016-07-28T10:49:44.549472"
    },
    "collapsed": false
   },
   "outputs": [],
   "source": [
    "df.head()"
   ]
  },
  {
   "cell_type": "code",
   "execution_count": null,
   "metadata": {
    "ExecuteTime": {
     "end_time": "2016-07-28T10:50:47.732759",
     "start_time": "2016-07-28T10:50:47.693732"
    },
    "collapsed": false
   },
   "outputs": [],
   "source": [
    "df.describe()"
   ]
  },
  {
   "cell_type": "markdown",
   "metadata": {},
   "source": [
    "* **What's going on above?**\n",
    "    * Get Summary Statistics\n",
    "    * Region is not present because it is not numerical\n",
    "    * Year is being summarized because it is being treated numerically\n",
    "\n",
    "* **Try it**\n",
    "    * Change Year to be a Categorical variable\n",
    "        * `df['year'] = df['year'].astype('category')`\n",
    "    * What is `df`?\n",
    "        * `?df`"
   ]
  },
  {
   "cell_type": "code",
   "execution_count": null,
   "metadata": {
    "ExecuteTime": {
     "end_time": "2016-07-28T10:51:25.074214",
     "start_time": "2016-07-28T10:51:24.455710"
    },
    "collapsed": true
   },
   "outputs": [],
   "source": [
    "??df"
   ]
  },
  {
   "cell_type": "code",
   "execution_count": null,
   "metadata": {
    "ExecuteTime": {
     "end_time": "2016-07-27T12:39:28.185171",
     "start_time": "2016-07-27T12:39:28.172162"
    },
    "collapsed": false
   },
   "outputs": [],
   "source": [
    "avg_df = df.groupby(['region']).mean()\n",
    "avg_df.head()"
   ]
  },
  {
   "cell_type": "markdown",
   "metadata": {},
   "source": [
    "* **What's going on above?**\n",
    "    * Aggregating data by the Region and then taking the average\n",
    "\n",
    "* **Try it**\n",
    "    * Rename Columns so we know they are averages\n",
    "        * `avg_df = avg_df.rename(columns={'Expenditure': 'Avg_Exp', 'Income': 'Avg_Income'})`\n",
    "    * How many records are there for each year?"
   ]
  },
  {
   "cell_type": "code",
   "execution_count": null,
   "metadata": {
    "ExecuteTime": {
     "end_time": "2016-07-28T10:52:47.109221",
     "start_time": "2016-07-28T10:52:45.637910"
    },
    "collapsed": false,
    "scrolled": false
   },
   "outputs": [],
   "source": [
    "%matplotlib inline\n",
    "\n",
    "from pylab import rcParams\n",
    "rcParams['figure.figsize'] = 20, 10\n",
    "\n",
    "import seaborn as sns\n",
    "\n",
    "ax = sns.boxplot(x=\"region\", y=\"Income\", hue=\"year\", data=df)"
   ]
  },
  {
   "cell_type": "markdown",
   "metadata": {},
   "source": [
    "* **What's going on above?**\n",
    "    * Use the magic function to plot inline\n",
    "    * Set the plot size (so it presents well)\n",
    "    * Import statiscal visualization library - Seaborn\n",
    "    * Box plot expenidures by its categorical variables\n",
    "\n",
    "* **Try it**\n",
    "    * Look at incomes"
   ]
  },
  {
   "cell_type": "code",
   "execution_count": null,
   "metadata": {
    "ExecuteTime": {
     "end_time": "2016-07-27T15:40:37.841970",
     "start_time": "2016-07-27T15:40:37.289577"
    },
    "collapsed": false
   },
   "outputs": [],
   "source": [
    "ax = sns.jointplot(x=\"Income\", y=\"Expenditure\", data=df, kind=\"reg\")"
   ]
  },
  {
   "cell_type": "code",
   "execution_count": null,
   "metadata": {
    "ExecuteTime": {
     "end_time": "2016-07-27T15:40:14.914387",
     "start_time": "2016-07-27T15:40:13.636473"
    },
    "collapsed": false
   },
   "outputs": [],
   "source": [
    "ax = sns.lmplot(x=\"Income\", y=\"Expenditure\", col=\"region\", data=df)"
   ]
  },
  {
   "cell_type": "code",
   "execution_count": null,
   "metadata": {
    "ExecuteTime": {
     "end_time": "2016-07-27T15:11:43.387462",
     "start_time": "2016-07-27T15:11:43.307407"
    },
    "collapsed": false
   },
   "outputs": [],
   "source": [
    "from statsmodels.formula.api import ols\n",
    "from statsmodels.stats.anova import anova_lm\n",
    "from scipy import stats\n",
    "\n",
    "def eta_squared(aov):\n",
    "    aov['eta_sq'] = 'NaN'\n",
    "    aov['eta_sq'] = aov[:-1]['sum_sq']/sum(aov['sum_sq'])\n",
    "    return aov\n",
    "\n",
    "def omega_squared(aov):\n",
    "    mse = aov['sum_sq'][-1]/aov['df'][-1]\n",
    "    aov['omega_sq'] = 'NaN'\n",
    "    aov['omega_sq'] = (aov[:-1]['sum_sq']-(aov[:-1]['df']*mse))/(sum(aov['sum_sq'])+mse)\n",
    "    return aov\n",
    "\n",
    "formula = 'Expenditure~region+year+region*year'\n",
    "model = ols(formula, df).fit()\n",
    "aov_table = anova_lm(model, typ=2)\n",
    "\n",
    "eta_squared(aov_table)\n",
    "omega_squared(aov_table)\n",
    "aov_table"
   ]
  },
  {
   "cell_type": "markdown",
   "metadata": {},
   "source": [
    "* **What's going on above?**\n",
    "    * Importing libraries\n",
    "    * Defining functions\n",
    "    * Performing ANOVA"
   ]
  },
  {
   "cell_type": "markdown",
   "metadata": {
    "collapsed": true
   },
   "source": [
    "We start with some brief introduction on theory of ANOVA. If you are more interested in the four methods to carry out one-way ANOVA with Python click here. ANOVA is a means of comparing the ratio of systematic variance to unsystematic variance in an experimental study. Variance in the ANOVA is partitioned in to total variance, variance due to groups, and variance due to individual differences.\n",
    "\n",
    "\n",
    "<img src =\"./images/python_anova_theory_partitioning_of_variance.gif\" style=\"width: 200px;\"/>\n",
    "<center>Partioning of Variance in the ANOVA. SS stands for Sum of Squares.</Center>\n",
    "<br>\n",
    "\n",
    "The ratio obtained when doing this comparison is known as the F-ratio. A one-way ANOVA can be seen as a regression model with a single categorical predictor. This predictor usually has two plus categories. A one-way ANOVA has a single factor with J levels. Each level corresponds to the groups in the independent measures design. The general form of the model, which is a regression model for a categorical factor with J levels, is:\n",
    "\n",
    "<br>\n",
    "<center>$y_i = b_0+b_1X_{1,i} +...+b_{j-1,i} + e_i$</Center>\n",
    "<br>\n",
    "\n",
    "There is a more elegant way to parametrize the model. In this way the group means are represented as deviations from the grand mean by grouping their coefficients under a single term.  I will not go into detail on this equation:\n",
    "\n",
    "<br>\n",
    "<center>$y_{ij} = \\mu_{grand} + \\tau_j + \\varepsilon_{ij}$</center>\n",
    "<br>\n",
    "\n",
    "As for all parametric tests the data need to be normally distributed (each groups data should be roughly normally distributed) for the F-statistic to be reliable. Each experimental condition should have roughly the same variance (i.e., homogeneity of variance), the observations (e.g., each group) should be independent, and the dependent variable should be measured on, at least,  an interval scale.\n",
    "\n"
   ]
  },
  {
   "cell_type": "code",
   "execution_count": null,
   "metadata": {
    "collapsed": true
   },
   "outputs": [],
   "source": [
    "* **What's going on above?**\n",
    "    * We can use \n",
    "    * Defining functions\n",
    "    * Performing ANOVA"
   ]
  }
 ],
 "metadata": {
  "kernelspec": {
   "display_name": "Python 3",
   "language": "python",
   "name": "python3"
  },
  "language_info": {
   "codemirror_mode": {
    "name": "ipython",
    "version": 3
   },
   "file_extension": ".py",
   "mimetype": "text/x-python",
   "name": "python",
   "nbconvert_exporter": "python",
   "pygments_lexer": "ipython3",
   "version": "3.5.1"
  }
 },
 "nbformat": 4,
 "nbformat_minor": 0
}
