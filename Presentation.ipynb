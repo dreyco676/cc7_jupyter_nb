{
 "cells": [
  {
   "cell_type": "markdown",
   "metadata": {
    "ExecuteTime": {
     "end_time": "2016-07-26T10:17:16.641987",
     "start_time": "2016-07-26T10:17:16.634980"
    }
   },
   "source": [
    "# What are Notebooks\n",
    "Why use them?\n",
    "-datascience\n",
    "-education\n",
    "-presentations\n",
    "Behind the scenes features \n",
    "Old workflow\n",
    "New workflow\n",
    "Exploratory Data Analysis\n",
    "-Highlight ease of sharing results & code\n",
    "-Highlight quick statistical charting\n",
    "-Highlight interactive coding\n",
    "-Highlight interactive charting & reporting\n",
    "-Markdown & Latex documentation\n",
    "-magic operator ?variable variable?? ?\n",
    "-directory nav commands\n",
    "-! to run other cli commands\n",
    "-%run to run other scripts\n",
    "-convert nb to script\n",
    "-; to suppress output\n",
    "-you can run inside another IDE= IDECEPTION!\n",
    "When to not use it...\n"
   ]
  },
  {
   "cell_type": "markdown",
   "metadata": {},
   "source": [
    "<center><h1>Developing Differently</h1></center>\n",
    "<center><h1>with</h1></center>\n",
    "![alt text](https://datascienceinsider.files.wordpress.com/2015/12/jupyter-logo.png)"
   ]
  },
  {
   "cell_type": "markdown",
   "metadata": {},
   "source": [
    "## What are Notebooks?\n",
    "* A somewhere between an ***IDE*** and an ***Interpreter***\n",
    "* Repeatable, interactive & visual\n",
    "* Self supporting documentation\n",
    "* Language Agnostic\n"
   ]
  },
  {
   "cell_type": "markdown",
   "metadata": {},
   "source": [
    "# Where do Notebooks get used?\n",
    "* Data Analytics\n",
    "    * Interative\n",
    "    * Visual\n",
    "    * Connect to distributed computing resources\n",
    "* Education\n",
    "    * Descriptive\n",
    "    * Example => Results\n",
    "    * Modular, not monolithic\n",
    "* Presentations\n",
    "    * Easy to format\n",
    "    * Run code live (& test before hand)"
   ]
  },
  {
   "cell_type": "markdown",
   "metadata": {},
   "source": [
    "# Old Workflow\n",
    "* Write a monolithic script for each analysis\n"
   ]
  }
 ],
 "metadata": {
  "kernelspec": {
   "display_name": "Python 3",
   "language": "python",
   "name": "python3"
  },
  "language_info": {
   "codemirror_mode": {
    "name": "ipython",
    "version": 3
   },
   "file_extension": ".py",
   "mimetype": "text/x-python",
   "name": "python",
   "nbconvert_exporter": "python",
   "pygments_lexer": "ipython3",
   "version": "3.5.2"
  }
 },
 "nbformat": 4,
 "nbformat_minor": 0
}
