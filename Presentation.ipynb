{
 "cells": [
  {
   "cell_type": "markdown",
   "metadata": {},
   "source": [
    "<center><h1>Developing Differently</h1></center>\n",
    "<center><h1>with</h1></center>\n",
    "![alt text](https://datascienceinsider.files.wordpress.com/2015/12/jupyter-logo.png)"
   ]
  },
  {
   "cell_type": "markdown",
   "metadata": {},
   "source": [
    "## What are Notebooks?\n",
    "* Somewhere between an ***IDE*** and an ***Interpreter***\n",
    "* Repeatable, interactive & visual\n",
    "* Self supporting documentation\n",
    "* Language Agnostic\n"
   ]
  },
  {
   "cell_type": "markdown",
   "metadata": {},
   "source": [
    "## Main features of the web application\n",
    "\n",
    " - In-browser editing for code, with automatic syntax highlighting, indentation, and tab completion / introspection.\n",
    " \n",
    " - The ability to execute code from the browser, with the results of computations attached to the code which generated them.\n",
    " - Displaying the result of computation using rich media representations, such as HTML, LaTeX, PNG, SVG, etc. For example, publication-quality figures rendered by the matplotlib library, can be included inline.\n",
    " \n",
    " - In-browser editing for rich text using the Markdown markup language, which can provide commentary for the code, is not limited to plain text.\n",
    " \n",
    " - The ability to easily include mathematical notation within markdown cells using LaTeX, and rendered natively by MathJax.\n",
    " \n",
    " - There are four types of cells: code cells, markdown cells, raw cells and heading cells."
   ]
  },
  {
   "cell_type": "markdown",
   "metadata": {},
   "source": [
    "![alt text](./images/arch.png)"
   ]
  },
  {
   "cell_type": "markdown",
   "metadata": {},
   "source": [
    "# Where do Notebooks get used?\n",
    "* Data Analytics\n",
    "    * Interative\n",
    "    * Visual\n",
    "    * Connect to distributed computing resources\n",
    "* Education\n",
    "    * Descriptive\n",
    "    * Example => Results\n",
    "    * Modular, not monolithic\n",
    "* Presentations\n",
    "    * Easy to format\n",
    "    * Run code live (& test before hand)"
   ]
  },
  {
   "cell_type": "markdown",
   "metadata": {},
   "source": [
    "![alt text](./images/workflow.png)"
   ]
  },
  {
   "cell_type": "markdown",
   "metadata": {},
   "source": [
    "# Exploratory Data Analysis\n",
    "\n",
    ">**In statistics, exploratory data analysis (EDA) is an approach to analyzing data sets to summarize their main characteristics, often with visual methods. A statistical model can be used or not, but primarily EDA is for seeing what the data can tell us beyond the formal modeling or hypothesis testing task.**"
   ]
  },
  {
   "cell_type": "markdown",
   "metadata": {},
   "source": [
    "### Getting started...\n",
    "* What do I have to work with?"
   ]
  },
  {
   "cell_type": "code",
   "execution_count": 37,
   "metadata": {
    "ExecuteTime": {
     "end_time": "2016-07-28T16:42:57.965184",
     "start_time": "2016-07-28T16:42:57.669009"
    },
    "collapsed": false
   },
   "outputs": [
    {
     "name": "stdout",
     "output_type": "stream",
     "text": [
      " Volume in drive C is OSDisk\n",
      " Volume Serial Number is 58A9-006C\n",
      "\n",
      " Directory of C:\\Users\\G540924\\Desktop\\GitHub\\cc7_jupyter_nb\n",
      "\n",
      "07/28/2016  04:40 PM    <DIR>          .\n",
      "07/28/2016  04:40 PM    <DIR>          ..\n",
      "07/28/2016  03:57 PM                84 .gitignore\n",
      "07/26/2016  10:04 AM    <DIR>          .ipynb_checkpoints\n",
      "07/28/2016  03:53 PM           121,781 arch.vsdx\n",
      "07/27/2016  12:49 PM    <DIR>          data\n",
      "07/28/2016  04:08 PM    <DIR>          images\n",
      "07/28/2016  04:40 PM            16,436 Presentation.ipynb\n",
      "07/26/2016  09:59 AM                57 README.md\n",
      "07/28/2016  02:11 PM            75,958 workflow.vsdx\n",
      "               5 File(s)        214,316 bytes\n",
      "               5 Dir(s)  50,981,072,896 bytes free\n"
     ]
    }
   ],
   "source": [
    "ls"
   ]
  },
  {
   "cell_type": "markdown",
   "metadata": {},
   "source": [
    "**Other CLI Stuff**\n",
    "* Run other scripts with %run\n",
    "* Execute OS specific commands with !*my_cool_cmd*"
   ]
  },
  {
   "cell_type": "code",
   "execution_count": 38,
   "metadata": {
    "ExecuteTime": {
     "end_time": "2016-07-28T16:42:57.979194",
     "start_time": "2016-07-28T16:42:57.967685"
    },
    "collapsed": false
   },
   "outputs": [
    {
     "data": {
      "text/plain": [
       "Index(['Expenditure', 'Income', 'region', 'year'], dtype='object')"
      ]
     },
     "execution_count": 38,
     "metadata": {},
     "output_type": "execute_result"
    }
   ],
   "source": [
    "import pandas as pd\n",
    "df = pd.read_csv('./data/college.csv')\n",
    "df.columns"
   ]
  },
  {
   "cell_type": "markdown",
   "metadata": {},
   "source": [
    "* **What's going on above?**\n",
    "    * Import Python Data Analysis Library - Pandas\n",
    "    * Read the csv file into memory\n",
    "    * Display the columns back in nice format\n",
    "\n",
    "* **Try it**\n",
    "    * What's the difference between `print(df.head())` and `df.head()`?\n",
    "    * What does `;` at the end of a cell do?"
   ]
  },
  {
   "cell_type": "code",
   "execution_count": 39,
   "metadata": {
    "ExecuteTime": {
     "end_time": "2016-07-28T16:42:58.027226",
     "start_time": "2016-07-28T16:42:57.983697"
    },
    "collapsed": false
   },
   "outputs": [
    {
     "data": {
      "text/html": [
       "<div>\n",
       "<table border=\"1\" class=\"dataframe\">\n",
       "  <thead>\n",
       "    <tr style=\"text-align: right;\">\n",
       "      <th></th>\n",
       "      <th>Expenditure</th>\n",
       "      <th>Income</th>\n",
       "      <th>region</th>\n",
       "      <th>year</th>\n",
       "    </tr>\n",
       "  </thead>\n",
       "  <tbody>\n",
       "    <tr>\n",
       "      <th>0</th>\n",
       "      <td>115.72</td>\n",
       "      <td>2726.4</td>\n",
       "      <td>A</td>\n",
       "      <td>2013</td>\n",
       "    </tr>\n",
       "    <tr>\n",
       "      <th>1</th>\n",
       "      <td>130.60</td>\n",
       "      <td>3770.0</td>\n",
       "      <td>A</td>\n",
       "      <td>2013</td>\n",
       "    </tr>\n",
       "    <tr>\n",
       "      <th>2</th>\n",
       "      <td>172.80</td>\n",
       "      <td>3490.0</td>\n",
       "      <td>A</td>\n",
       "      <td>2013</td>\n",
       "    </tr>\n",
       "    <tr>\n",
       "      <th>3</th>\n",
       "      <td>135.60</td>\n",
       "      <td>4788.0</td>\n",
       "      <td>A</td>\n",
       "      <td>2013</td>\n",
       "    </tr>\n",
       "    <tr>\n",
       "      <th>4</th>\n",
       "      <td>128.80</td>\n",
       "      <td>3932.0</td>\n",
       "      <td>A</td>\n",
       "      <td>2013</td>\n",
       "    </tr>\n",
       "  </tbody>\n",
       "</table>\n",
       "</div>"
      ],
      "text/plain": [
       "   Expenditure  Income region  year\n",
       "0       115.72  2726.4      A  2013\n",
       "1       130.60  3770.0      A  2013\n",
       "2       172.80  3490.0      A  2013\n",
       "3       135.60  4788.0      A  2013\n",
       "4       128.80  3932.0      A  2013"
      ]
     },
     "execution_count": 39,
     "metadata": {},
     "output_type": "execute_result"
    }
   ],
   "source": [
    "df.head()"
   ]
  },
  {
   "cell_type": "code",
   "execution_count": 40,
   "metadata": {
    "ExecuteTime": {
     "end_time": "2016-07-28T16:42:58.087809",
     "start_time": "2016-07-28T16:42:58.031230"
    },
    "collapsed": false
   },
   "outputs": [
    {
     "data": {
      "text/html": [
       "<div>\n",
       "<table border=\"1\" class=\"dataframe\">\n",
       "  <thead>\n",
       "    <tr style=\"text-align: right;\">\n",
       "      <th></th>\n",
       "      <th>Expenditure</th>\n",
       "      <th>Income</th>\n",
       "      <th>year</th>\n",
       "    </tr>\n",
       "  </thead>\n",
       "  <tbody>\n",
       "    <tr>\n",
       "      <th>count</th>\n",
       "      <td>150.000000</td>\n",
       "      <td>150.000000</td>\n",
       "      <td>150.000000</td>\n",
       "    </tr>\n",
       "    <tr>\n",
       "      <th>mean</th>\n",
       "      <td>166.444800</td>\n",
       "      <td>3813.677333</td>\n",
       "      <td>2014.000000</td>\n",
       "    </tr>\n",
       "    <tr>\n",
       "      <th>std</th>\n",
       "      <td>62.620749</td>\n",
       "      <td>1037.975873</td>\n",
       "      <td>0.819232</td>\n",
       "    </tr>\n",
       "    <tr>\n",
       "      <th>min</th>\n",
       "      <td>55.000000</td>\n",
       "      <td>1602.000000</td>\n",
       "      <td>2013.000000</td>\n",
       "    </tr>\n",
       "    <tr>\n",
       "      <th>25%</th>\n",
       "      <td>117.610000</td>\n",
       "      <td>3088.000000</td>\n",
       "      <td>2013.000000</td>\n",
       "    </tr>\n",
       "    <tr>\n",
       "      <th>50%</th>\n",
       "      <td>161.300000</td>\n",
       "      <td>3836.000000</td>\n",
       "      <td>2014.000000</td>\n",
       "    </tr>\n",
       "    <tr>\n",
       "      <th>75%</th>\n",
       "      <td>215.390000</td>\n",
       "      <td>4436.500000</td>\n",
       "      <td>2015.000000</td>\n",
       "    </tr>\n",
       "    <tr>\n",
       "      <th>max</th>\n",
       "      <td>326.000000</td>\n",
       "      <td>6484.000000</td>\n",
       "      <td>2015.000000</td>\n",
       "    </tr>\n",
       "  </tbody>\n",
       "</table>\n",
       "</div>"
      ],
      "text/plain": [
       "       Expenditure       Income         year\n",
       "count   150.000000   150.000000   150.000000\n",
       "mean    166.444800  3813.677333  2014.000000\n",
       "std      62.620749  1037.975873     0.819232\n",
       "min      55.000000  1602.000000  2013.000000\n",
       "25%     117.610000  3088.000000  2013.000000\n",
       "50%     161.300000  3836.000000  2014.000000\n",
       "75%     215.390000  4436.500000  2015.000000\n",
       "max     326.000000  6484.000000  2015.000000"
      ]
     },
     "execution_count": 40,
     "metadata": {},
     "output_type": "execute_result"
    }
   ],
   "source": [
    "df.describe()"
   ]
  },
  {
   "cell_type": "markdown",
   "metadata": {},
   "source": [
    "* **What's going on above?**\n",
    "    * Get Summary Statistics\n",
    "    * Region is not present because it is not numerical\n",
    "    * Year is being summarized because it is being treated numerically\n",
    "\n",
    "* **Try it**\n",
    "    * Change Year to be a Categorical variable\n",
    "        * `df['year'] = df['year'].astype('category')`\n",
    "    * What is `df`?\n",
    "        * `?df`"
   ]
  },
  {
   "cell_type": "code",
   "execution_count": 41,
   "metadata": {
    "ExecuteTime": {
     "end_time": "2016-07-28T16:42:58.601174",
     "start_time": "2016-07-28T16:42:58.090811"
    },
    "collapsed": true
   },
   "outputs": [],
   "source": [
    "??df"
   ]
  },
  {
   "cell_type": "code",
   "execution_count": 42,
   "metadata": {
    "ExecuteTime": {
     "end_time": "2016-07-28T16:42:58.659214",
     "start_time": "2016-07-28T16:42:58.643202"
    },
    "collapsed": false
   },
   "outputs": [
    {
     "data": {
      "text/html": [
       "<div>\n",
       "<table border=\"1\" class=\"dataframe\">\n",
       "  <thead>\n",
       "    <tr style=\"text-align: right;\">\n",
       "      <th></th>\n",
       "      <th>Expenditure</th>\n",
       "      <th>Income</th>\n",
       "      <th>year</th>\n",
       "    </tr>\n",
       "    <tr>\n",
       "      <th>region</th>\n",
       "      <th></th>\n",
       "      <th></th>\n",
       "      <th></th>\n",
       "    </tr>\n",
       "  </thead>\n",
       "  <tbody>\n",
       "    <tr>\n",
       "      <th>A</th>\n",
       "      <td>173.056296</td>\n",
       "      <td>4495.866667</td>\n",
       "      <td>2014</td>\n",
       "    </tr>\n",
       "    <tr>\n",
       "      <th>B</th>\n",
       "      <td>157.140000</td>\n",
       "      <td>4049.177778</td>\n",
       "      <td>2014</td>\n",
       "    </tr>\n",
       "    <tr>\n",
       "      <th>C</th>\n",
       "      <td>126.760000</td>\n",
       "      <td>2967.016667</td>\n",
       "      <td>2014</td>\n",
       "    </tr>\n",
       "    <tr>\n",
       "      <th>D</th>\n",
       "      <td>219.299487</td>\n",
       "      <td>4166.051282</td>\n",
       "      <td>2014</td>\n",
       "    </tr>\n",
       "  </tbody>\n",
       "</table>\n",
       "</div>"
      ],
      "text/plain": [
       "        Expenditure       Income  year\n",
       "region                                \n",
       "A        173.056296  4495.866667  2014\n",
       "B        157.140000  4049.177778  2014\n",
       "C        126.760000  2967.016667  2014\n",
       "D        219.299487  4166.051282  2014"
      ]
     },
     "execution_count": 42,
     "metadata": {},
     "output_type": "execute_result"
    }
   ],
   "source": [
    "avg_df = df.groupby(['region']).mean()\n",
    "avg_df.head()"
   ]
  },
  {
   "cell_type": "markdown",
   "metadata": {},
   "source": [
    "* **What's going on above?**\n",
    "    * Aggregating data by the Region and then taking the average\n",
    "\n",
    "* **Try it**\n",
    "    * Rename Columns so we know they are averages\n",
    "        * `avg_df = avg_df.rename(columns={'Expenditure': 'Avg_Exp', 'Income': 'Avg_Income'})`\n",
    "    * How many records are there for each year?"
   ]
  },
  {
   "cell_type": "code",
   "execution_count": 43,
   "metadata": {
    "ExecuteTime": {
     "end_time": "2016-07-28T16:42:59.569771",
     "start_time": "2016-07-28T16:42:58.665718"
    },
    "collapsed": false,
    "scrolled": false
   },
   "outputs": [
    {
     "data": {
      "image/png": "[encoded data removed]",
      "text/plain": [
       "<matplotlib.figure.Figure at 0x235c4e1ad68>"
      ]
     },
     "metadata": {},
     "output_type": "display_data"
    }
   ],
   "source": [
    "%matplotlib inline\n",
    "\n",
    "from pylab import rcParams\n",
    "rcParams['figure.figsize'] = 20, 10\n",
    "\n",
    "import seaborn as sns\n",
    "\n",
    "ax = sns.boxplot(x=\"region\", y=\"Income\", hue=\"year\", data=df)"
   ]
  },
  {
   "cell_type": "markdown",
   "metadata": {},
   "source": [
    "* **What's going on above?**\n",
    "    * Use the magic function to plot inline\n",
    "    * Set the plot size (so it presents well)\n",
    "    * Import statiscal visualization library - Seaborn\n",
    "    * Box plot expenidures by its categorical variables\n",
    "\n",
    "* **Try it**\n",
    "    * Look at incomes"
   ]
  },
  {
   "cell_type": "code",
   "execution_count": 44,
   "metadata": {
    "ExecuteTime": {
     "end_time": "2016-07-28T16:43:00.122166",
     "start_time": "2016-07-28T16:42:59.572772"
    },
    "collapsed": false
   },
   "outputs": [
    {
     "data": {
      "image/png": "[encoded data removed]",
      "text/plain": [
       "<matplotlib.figure.Figure at 0x235c4fe82e8>"
      ]
     },
     "metadata": {},
     "output_type": "display_data"
    }
   ],
   "source": [
    "ax = sns.jointplot(x=\"Income\", y=\"Expenditure\", data=df, kind=\"reg\")"
   ]
  },
  {
   "cell_type": "code",
   "execution_count": 45,
   "metadata": {
    "ExecuteTime": {
     "end_time": "2016-07-28T16:43:01.102355",
     "start_time": "2016-07-28T16:43:00.125668"
    },
    "collapsed": false
   },
   "outputs": [
    {
     "data": {
      "image/png": "[encoded data removed]",
      "text/plain": [
       "<matplotlib.figure.Figure at 0x235c399d9b0>"
      ]
     },
     "metadata": {},
     "output_type": "display_data"
    }
   ],
   "source": [
    "ax = sns.lmplot(x=\"Income\", y=\"Expenditure\", col=\"region\", data=df)"
   ]
  },
  {
   "cell_type": "code",
   "execution_count": 46,
   "metadata": {
    "ExecuteTime": {
     "end_time": "2016-07-28T16:43:01.161397",
     "start_time": "2016-07-28T16:43:01.106359"
    },
    "collapsed": false
   },
   "outputs": [
    {
     "data": {
      "text/html": [
       "<div>\n",
       "<table border=\"1\" class=\"dataframe\">\n",
       "  <thead>\n",
       "    <tr style=\"text-align: right;\">\n",
       "      <th></th>\n",
       "      <th>sum_sq</th>\n",
       "      <th>df</th>\n",
       "      <th>F</th>\n",
       "      <th>PR(&gt;F)</th>\n",
       "      <th>eta_sq</th>\n",
       "      <th>omega_sq</th>\n",
       "    </tr>\n",
       "  </thead>\n",
       "  <tbody>\n",
       "    <tr>\n",
       "      <th>region</th>\n",
       "      <td>188842.575388</td>\n",
       "      <td>3.0</td>\n",
       "      <td>23.262950</td>\n",
       "      <td>2.622251e-12</td>\n",
       "      <td>0.323204</td>\n",
       "      <td>0.307885</td>\n",
       "    </tr>\n",
       "    <tr>\n",
       "      <th>year</th>\n",
       "      <td>2006.323264</td>\n",
       "      <td>1.0</td>\n",
       "      <td>0.741459</td>\n",
       "      <td>3.906456e-01</td>\n",
       "      <td>0.003434</td>\n",
       "      <td>-0.001192</td>\n",
       "    </tr>\n",
       "    <tr>\n",
       "      <th>region:year</th>\n",
       "      <td>9193.792818</td>\n",
       "      <td>3.0</td>\n",
       "      <td>1.132556</td>\n",
       "      <td>3.380969e-01</td>\n",
       "      <td>0.015735</td>\n",
       "      <td>0.001833</td>\n",
       "    </tr>\n",
       "    <tr>\n",
       "      <th>Residual</th>\n",
       "      <td>384239.687537</td>\n",
       "      <td>142.0</td>\n",
       "      <td>NaN</td>\n",
       "      <td>NaN</td>\n",
       "      <td>NaN</td>\n",
       "      <td>NaN</td>\n",
       "    </tr>\n",
       "  </tbody>\n",
       "</table>\n",
       "</div>"
      ],
      "text/plain": [
       "                    sum_sq     df          F        PR(>F)    eta_sq  omega_sq\n",
       "region       188842.575388    3.0  23.262950  2.622251e-12  0.323204  0.307885\n",
       "year           2006.323264    1.0   0.741459  3.906456e-01  0.003434 -0.001192\n",
       "region:year    9193.792818    3.0   1.132556  3.380969e-01  0.015735  0.001833\n",
       "Residual     384239.687537  142.0        NaN           NaN       NaN       NaN"
      ]
     },
     "execution_count": 46,
     "metadata": {},
     "output_type": "execute_result"
    }
   ],
   "source": [
    "from statsmodels.formula.api import ols\n",
    "from statsmodels.stats.anova import anova_lm\n",
    "from scipy import stats\n",
    "\n",
    "def eta_squared(aov):\n",
    "    aov['eta_sq'] = 'NaN'\n",
    "    aov['eta_sq'] = aov[:-1]['sum_sq']/sum(aov['sum_sq'])\n",
    "    return aov\n",
    "\n",
    "def omega_squared(aov):\n",
    "    mse = aov['sum_sq'][-1]/aov['df'][-1]\n",
    "    aov['omega_sq'] = 'NaN'\n",
    "    aov['omega_sq'] = (aov[:-1]['sum_sq']-(aov[:-1]['df']*mse))/(sum(aov['sum_sq'])+mse)\n",
    "    return aov\n",
    "\n",
    "formula = 'Expenditure~region+year+region*year'\n",
    "model = ols(formula, df).fit()\n",
    "aov_table = anova_lm(model, typ=2)\n",
    "\n",
    "eta_squared(aov_table)\n",
    "omega_squared(aov_table)\n",
    "aov_table"
   ]
  },
  {
   "cell_type": "markdown",
   "metadata": {},
   "source": [
    "* **What's going on above?**\n",
    "    * Importing libraries\n",
    "    * Defining functions\n",
    "    * Performing ANOVA"
   ]
  },
  {
   "cell_type": "markdown",
   "metadata": {
    "collapsed": true
   },
   "source": [
    "We start with some brief introduction on theory of ANOVA. If you are more interested in the four methods to carry out one-way ANOVA with Python click here. ANOVA is a means of comparing the ratio of systematic variance to unsystematic variance in an experimental study. Variance in the ANOVA is partitioned in to total variance, variance due to groups, and variance due to individual differences.\n",
    "\n",
    "\n",
    "<img src =\"./images/python_anova_theory_partitioning_of_variance.gif\" style=\"width: 200px;\"/>\n",
    "<center>Partioning of Variance in the ANOVA. SS stands for Sum of Squares.</Center>\n",
    "<br>\n",
    "\n",
    "The ratio obtained when doing this comparison is known as the F-ratio. A one-way ANOVA can be seen as a regression model with a single categorical predictor. This predictor usually has two plus categories. A one-way ANOVA has a single factor with J levels. Each level corresponds to the groups in the independent measures design. The general form of the model, which is a regression model for a categorical factor with J levels, is:\n",
    "\n",
    "<br>\n",
    "<center>$y_i = b_0+b_1X_{1,i} +...+b_{j-1,i} + e_i$</Center>\n",
    "<br>\n",
    "\n",
    "There is a more elegant way to parametrize the model. In this way the group means are represented as deviations from the grand mean by grouping their coefficients under a single term.  I will not go into detail on this equation:\n",
    "\n",
    "<br>\n",
    "<center>$y_{ij} = \\mu_{grand} + \\tau_j + \\varepsilon_{ij}$</center>\n",
    "<br>\n",
    "\n",
    "As for all parametric tests the data need to be normally distributed (each groups data should be roughly normally distributed) for the F-statistic to be reliable. Each experimental condition should have roughly the same variance (i.e., homogeneity of variance), the observations (e.g., each group) should be independent, and the dependent variable should be measured on, at least,  an interval scale.\n",
    "\n"
   ]
  },
  {
   "cell_type": "markdown",
   "metadata": {
    "ExecuteTime": {
     "end_time": "2016-07-28T16:17:19.098740",
     "start_time": "2016-07-28T16:17:19.091735"
    }
   },
   "source": [
    "* **What's going on above?**\n",
    "    * We can use Markdown, HTML and Latex to have rich documentation!"
   ]
  }
 ],
 "metadata": {
  "kernelspec": {
   "display_name": "Python 3",
   "language": "python",
   "name": "python3"
  },
  "language_info": {
   "codemirror_mode": {
    "name": "ipython",
    "version": 3
   },
   "file_extension": ".py",
   "mimetype": "text/x-python",
   "name": "python",
   "nbconvert_exporter": "python",
   "pygments_lexer": "ipython3",
   "version": "3.4.4"
  }
 },
 "nbformat": 4,
 "nbformat_minor": 0
}
