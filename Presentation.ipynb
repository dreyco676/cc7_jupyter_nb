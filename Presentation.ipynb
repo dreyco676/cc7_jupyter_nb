{
 "cells": [
  {
   "cell_type": "markdown",
   "metadata": {
    "ExecuteTime": {
     "end_time": "2016-07-26T10:17:16.641987",
     "start_time": "2016-07-26T10:17:16.634980"
    }
   },
   "source": [
    "# What are Notebooks\n",
    "Why use them?\n",
    "-datascience\n",
    "-education\n",
    "-presentations\n",
    "Behind the scenes features \n",
    "Old workflow\n",
    "New workflow\n",
    "Exploratory Data Analysis\n",
    "-Highlight ease of sharing results & code\n",
    "-Highlight quick statistical charting\n",
    "-Highlight interactive coding\n",
    "-Highlight interactive charting & reporting\n",
    "-Markdown & Latex documentation\n",
    "-magic operator ?variable variable?? ?\n",
    "-directory nav commands\n",
    "-! to run other cli commands\n",
    "-%run to run other scripts\n",
    "-convert nb to script\n",
    "-; to suppress output\n",
    "-you can run inside another IDE= IDECEPTION!\n",
    "When to not use it...\n"
   ]
  },
  {
   "cell_type": "markdown",
   "metadata": {},
   "source": [
    "<center><h1>Developing Differently</h1></center>\n",
    "<center><h1>with</h1></center>\n",
    "![alt text](https://datascienceinsider.files.wordpress.com/2015/12/jupyter-logo.png)"
   ]
  },
  {
   "cell_type": "markdown",
   "metadata": {},
   "source": [
    "## What are Notebooks?\n",
    "* A somewhere between an ***IDE*** and an ***Interpreter***\n",
    "* Repeatable, interactive & visual\n",
    "* Self supporting documentation\n",
    "* Language Agnostic\n"
   ]
  },
  {
   "cell_type": "markdown",
   "metadata": {},
   "source": [
    "# Where do Notebooks get used?\n",
    "* Data Analytics\n",
    "    * Interative\n",
    "    * Visual\n",
    "    * Connect to distributed computing resources\n",
    "* Education\n",
    "    * Descriptive\n",
    "    * Example => Results\n",
    "    * Modular, not monolithic\n",
    "* Presentations\n",
    "    * Easy to format\n",
    "    * Run code live (& test before hand)"
   ]
  },
  {
   "cell_type": "markdown",
   "metadata": {},
   "source": [
    "![alt text](workflow.png)"
   ]
  },
  {
   "cell_type": "markdown",
   "metadata": {},
   "source": [
    "# Exploratory Data Analysis\n",
    "\n",
    ">**In statistics, exploratory data analysis (EDA) is an approach to analyzing data sets to summarize their main characteristics, often with visual methods. A statistical model can be used or not, but primarily EDA is for seeing what the data can tell us beyond the formal modeling or hypothesis testing task.**"
   ]
  },
  {
   "cell_type": "markdown",
   "metadata": {},
   "source": [
    "### Getting started...\n",
    "* What do I have to work with?"
   ]
  },
  {
   "cell_type": "code",
   "execution_count": 22,
   "metadata": {
    "ExecuteTime": {
     "end_time": "2016-07-27T12:34:52.970536",
     "start_time": "2016-07-27T12:34:52.706374"
    },
    "collapsed": false
   },
   "outputs": [
    {
     "name": "stdout",
     "output_type": "stream",
     "text": [
      " Volume in drive C is OSDisk\n",
      " Volume Serial Number is 58A9-006C\n",
      "\n",
      " Directory of C:\\Users\\G540924\\Desktop\\GitHub\\cc7_jupyter_nb\n",
      "\n",
      "07/27/2016  12:32 PM    <DIR>          .\n",
      "07/27/2016  12:32 PM    <DIR>          ..\n",
      "07/27/2016  10:09 AM                75 .gitignore\n",
      "07/26/2016  10:04 AM    <DIR>          .ipynb_checkpoints\n",
      "07/27/2016  10:54 AM             2,705 college.csv\n",
      "07/27/2016  12:32 PM            11,052 Presentation.ipynb\n",
      "07/26/2016  09:59 AM                57 README.md\n",
      "07/27/2016  10:42 AM            42,406 workflow.png\n",
      "07/27/2016  10:41 AM            62,113 workflow.vsdx\n",
      "               6 File(s)        118,408 bytes\n",
      "               3 Dir(s)  51,435,872,256 bytes free\n"
     ]
    }
   ],
   "source": [
    "ls"
   ]
  },
  {
   "cell_type": "code",
   "execution_count": 3,
   "metadata": {
    "ExecuteTime": {
     "end_time": "2016-07-27T11:13:30.913424",
     "start_time": "2016-07-27T11:13:30.898414"
    },
    "collapsed": false
   },
   "outputs": [
    {
     "data": {
      "text/html": [
       "<div>\n",
       "<table border=\"1\" class=\"dataframe\">\n",
       "  <thead>\n",
       "    <tr style=\"text-align: right;\">\n",
       "      <th></th>\n",
       "      <th>Expenditure</th>\n",
       "      <th>Income</th>\n",
       "      <th>region</th>\n",
       "      <th>year</th>\n",
       "    </tr>\n",
       "  </thead>\n",
       "  <tbody>\n",
       "    <tr>\n",
       "      <th>0</th>\n",
       "      <td>115.72</td>\n",
       "      <td>2726.4</td>\n",
       "      <td>A</td>\n",
       "      <td>2013</td>\n",
       "    </tr>\n",
       "    <tr>\n",
       "      <th>1</th>\n",
       "      <td>130.60</td>\n",
       "      <td>3770.0</td>\n",
       "      <td>A</td>\n",
       "      <td>2013</td>\n",
       "    </tr>\n",
       "    <tr>\n",
       "      <th>2</th>\n",
       "      <td>172.80</td>\n",
       "      <td>3490.0</td>\n",
       "      <td>A</td>\n",
       "      <td>2013</td>\n",
       "    </tr>\n",
       "    <tr>\n",
       "      <th>3</th>\n",
       "      <td>135.60</td>\n",
       "      <td>4788.0</td>\n",
       "      <td>A</td>\n",
       "      <td>2013</td>\n",
       "    </tr>\n",
       "    <tr>\n",
       "      <th>4</th>\n",
       "      <td>128.80</td>\n",
       "      <td>3932.0</td>\n",
       "      <td>A</td>\n",
       "      <td>2013</td>\n",
       "    </tr>\n",
       "  </tbody>\n",
       "</table>\n",
       "</div>"
      ],
      "text/plain": [
       "   Expenditure  Income region  year\n",
       "0       115.72  2726.4      A  2013\n",
       "1       130.60  3770.0      A  2013\n",
       "2       172.80  3490.0      A  2013\n",
       "3       135.60  4788.0      A  2013\n",
       "4       128.80  3932.0      A  2013"
      ]
     },
     "execution_count": 3,
     "metadata": {},
     "output_type": "execute_result"
    }
   ],
   "source": [
    "import pandas as pd\n",
    "df = pd.read_csv('./data/college.csv')\n",
    "df.head()"
   ]
  },
  {
   "cell_type": "markdown",
   "metadata": {},
   "source": [
    "* **What's going on above?**\n",
    "    * Import Python Data Analysis Library - Pandas\n",
    "    * Read the csv file into memory\n",
    "    * Display the results back in nice format\n",
    "\n",
    "* **Try it**\n",
    "    * What's the difference between `print(df.head())` and `df.head()`?\n",
    "    * What does `;` at the end of a cell do?"
   ]
  },
  {
   "cell_type": "code",
   "execution_count": 16,
   "metadata": {
    "ExecuteTime": {
     "end_time": "2016-07-27T12:23:47.972018",
     "start_time": "2016-07-27T12:23:47.941499"
    },
    "collapsed": false
   },
   "outputs": [
    {
     "data": {
      "text/html": [
       "<div>\n",
       "<table border=\"1\" class=\"dataframe\">\n",
       "  <thead>\n",
       "    <tr style=\"text-align: right;\">\n",
       "      <th></th>\n",
       "      <th>Expenditure</th>\n",
       "      <th>Income</th>\n",
       "    </tr>\n",
       "  </thead>\n",
       "  <tbody>\n",
       "    <tr>\n",
       "      <th>count</th>\n",
       "      <td>150.000000</td>\n",
       "      <td>150.000000</td>\n",
       "    </tr>\n",
       "    <tr>\n",
       "      <th>mean</th>\n",
       "      <td>166.444800</td>\n",
       "      <td>3813.677333</td>\n",
       "    </tr>\n",
       "    <tr>\n",
       "      <th>std</th>\n",
       "      <td>62.620749</td>\n",
       "      <td>1037.975873</td>\n",
       "    </tr>\n",
       "    <tr>\n",
       "      <th>min</th>\n",
       "      <td>55.000000</td>\n",
       "      <td>1602.000000</td>\n",
       "    </tr>\n",
       "    <tr>\n",
       "      <th>25%</th>\n",
       "      <td>117.610000</td>\n",
       "      <td>3088.000000</td>\n",
       "    </tr>\n",
       "    <tr>\n",
       "      <th>50%</th>\n",
       "      <td>161.300000</td>\n",
       "      <td>3836.000000</td>\n",
       "    </tr>\n",
       "    <tr>\n",
       "      <th>75%</th>\n",
       "      <td>215.390000</td>\n",
       "      <td>4436.500000</td>\n",
       "    </tr>\n",
       "    <tr>\n",
       "      <th>max</th>\n",
       "      <td>326.000000</td>\n",
       "      <td>6484.000000</td>\n",
       "    </tr>\n",
       "  </tbody>\n",
       "</table>\n",
       "</div>"
      ],
      "text/plain": [
       "       Expenditure       Income\n",
       "count   150.000000   150.000000\n",
       "mean    166.444800  3813.677333\n",
       "std      62.620749  1037.975873\n",
       "min      55.000000  1602.000000\n",
       "25%     117.610000  3088.000000\n",
       "50%     161.300000  3836.000000\n",
       "75%     215.390000  4436.500000\n",
       "max     326.000000  6484.000000"
      ]
     },
     "execution_count": 16,
     "metadata": {},
     "output_type": "execute_result"
    }
   ],
   "source": [
    "df.describe()"
   ]
  },
  {
   "cell_type": "markdown",
   "metadata": {},
   "source": [
    "* **What's going on above?**\n",
    "    * Get Summary Statistics\n",
    "    * Region is not present because it is not numerical\n",
    "    * Year is being summarized because it is being treated numerically\n",
    "\n",
    "* **Try it**\n",
    "    * Change Year to be a Categorical variable\n",
    "        * `df['year'] = df['year'].astype('category')`\n",
    "    * What is `df`?\n",
    "        * `?df`"
   ]
  },
  {
   "cell_type": "code",
   "execution_count": 24,
   "metadata": {
    "ExecuteTime": {
     "end_time": "2016-07-27T12:39:28.185171",
     "start_time": "2016-07-27T12:39:28.172162"
    },
    "collapsed": false
   },
   "outputs": [
    {
     "data": {
      "text/html": [
       "<div>\n",
       "<table border=\"1\" class=\"dataframe\">\n",
       "  <thead>\n",
       "    <tr style=\"text-align: right;\">\n",
       "      <th></th>\n",
       "      <th>Expenditure</th>\n",
       "      <th>Income</th>\n",
       "    </tr>\n",
       "    <tr>\n",
       "      <th>region</th>\n",
       "      <th></th>\n",
       "      <th></th>\n",
       "    </tr>\n",
       "  </thead>\n",
       "  <tbody>\n",
       "    <tr>\n",
       "      <th>A</th>\n",
       "      <td>173.056296</td>\n",
       "      <td>4495.866667</td>\n",
       "    </tr>\n",
       "    <tr>\n",
       "      <th>B</th>\n",
       "      <td>157.140000</td>\n",
       "      <td>4049.177778</td>\n",
       "    </tr>\n",
       "    <tr>\n",
       "      <th>C</th>\n",
       "      <td>126.760000</td>\n",
       "      <td>2967.016667</td>\n",
       "    </tr>\n",
       "    <tr>\n",
       "      <th>D</th>\n",
       "      <td>219.299487</td>\n",
       "      <td>4166.051282</td>\n",
       "    </tr>\n",
       "  </tbody>\n",
       "</table>\n",
       "</div>"
      ],
      "text/plain": [
       "        Expenditure       Income\n",
       "region                          \n",
       "A        173.056296  4495.866667\n",
       "B        157.140000  4049.177778\n",
       "C        126.760000  2967.016667\n",
       "D        219.299487  4166.051282"
      ]
     },
     "execution_count": 24,
     "metadata": {},
     "output_type": "execute_result"
    }
   ],
   "source": [
    "avg_df = df.groupby(['region']).mean()\n",
    "avg_df.head()"
   ]
  },
  {
   "cell_type": "markdown",
   "metadata": {},
   "source": [
    "* **What's going on above?**\n",
    "    * Aggregating data by the Region and then taking the average\n",
    "\n",
    "* **Try it**\n",
    "    * Rename Columns so we know they are averages\n",
    "        * `avg_df = avg_df.rename(columns={'Expenditure': 'Avg_Exp', 'Income': 'Avg_Income'})`\n",
    "    * How many records are there for each year?"
   ]
  },
  {
   "cell_type": "code",
   "execution_count": 28,
   "metadata": {
    "ExecuteTime": {
     "end_time": "2016-07-27T12:46:18.246219",
     "start_time": "2016-07-27T12:46:17.570758"
    },
    "collapsed": false,
    "scrolled": false
   },
   "outputs": [
    {
     "data": {
      "image/png": "[encoded data removed]",
      "text/plain": [
       "<matplotlib.figure.Figure at 0x24d974f19e8>"
      ]
     },
     "metadata": {},
     "output_type": "display_data"
    }
   ],
   "source": [
    "%matplotlib inline\n",
    "\n",
    "from pylab import rcParams\n",
    "rcParams['figure.figsize'] = 20, 10\n",
    "\n",
    "import seaborn as sns\n",
    "\n",
    "ax = sns.boxplot(x=\"region\", y=\"Expenditure\", hue=\"year\", data=df)"
   ]
  },
  {
   "cell_type": "markdown",
   "metadata": {},
   "source": [
    "* **What's going on above?**\n",
    "    * Use the magic function so that it plots inline\n",
    "    * Set the plot size (so it presents well)\n",
    "    * Import statiscal visualization library - Seaborn\n",
    "    * Box plot expenidures by its categorical variables\n",
    "\n",
    "* **Try it**\n",
    "    * Look at incomes"
   ]
  }
 ],
 "metadata": {
  "kernelspec": {
   "display_name": "Python 3",
   "language": "python",
   "name": "python3"
  },
  "language_info": {
   "codemirror_mode": {
    "name": "ipython",
    "version": 3
   },
   "file_extension": ".py",
   "mimetype": "text/x-python",
   "name": "python",
   "nbconvert_exporter": "python",
   "pygments_lexer": "ipython3",
   "version": "3.5.1"
  }
 },
 "nbformat": 4,
 "nbformat_minor": 0
}
